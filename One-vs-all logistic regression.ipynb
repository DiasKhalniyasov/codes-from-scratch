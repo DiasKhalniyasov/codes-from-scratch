{
 "cells": [
  {
   "cell_type": "markdown",
   "metadata": {},
   "source": [
    "# One-vs-all classific "
   ]
  },
  {
   "cell_type": "code",
   "execution_count": 11,
   "metadata": {
    "scrolled": true
   },
   "outputs": [],
   "source": [
    "import pandas as pd\n",
    "import numpy as np \n",
    "import matplotlib.pyplot as plt\n",
    "from sklearn.model_selection import train_test_split\n",
    "\n",
    "df = pd.read_csv(r'C:\\Users\\usrer\\Desktop\\books for study\\4 КУРС\\мл\\glass.csv')"
   ]
  },
  {
   "cell_type": "code",
   "execution_count": 12,
   "metadata": {},
   "outputs": [],
   "source": [
    "df['RI'] = (df['RI'].values - df['RI'].min())/(df['RI'].max()-df['RI'].min())\n",
    "df['Na']= (df['Na'].values - df['Na'].min())/(df['Na'].max()-df['Na'].min())\n",
    "df['Mg']= (df['Mg'].values - df['Mg'].min())/(df['Mg'].max()-df['Mg'].min())\n",
    "df['Al']= (df['Al'].values - df['Al'].min())/(df['Al'].max()-df['Al'].min())\n",
    "df['Si']= (df['Si'].values - df['Si'].min())/(df['Si'].max()-df['Si'].min())\n",
    "df['K']= (df['K'].values - df['K'].min())/(df['K'].max()-df['K'].min())\n",
    "df['Ca']= (df['Ca'].values - df['Ca'].min())/(df['Ca'].max()-df['Ca'].min())\n",
    "df['Ba']= (df['Ba'].values - df['Ba'].min())/(df['Ba'].max()-df['Ba'].min())\n",
    "df['Fe']= (df['Fe'].values - df['Fe'].min())/(df['Fe'].max()-df['Fe'].min())"
   ]
  },
  {
   "cell_type": "code",
   "execution_count": 13,
   "metadata": {},
   "outputs": [
    {
     "data": {
      "text/html": [
       "<div>\n",
       "<style scoped>\n",
       "    .dataframe tbody tr th:only-of-type {\n",
       "        vertical-align: middle;\n",
       "    }\n",
       "\n",
       "    .dataframe tbody tr th {\n",
       "        vertical-align: top;\n",
       "    }\n",
       "\n",
       "    .dataframe thead th {\n",
       "        text-align: right;\n",
       "    }\n",
       "</style>\n",
       "<table border=\"1\" class=\"dataframe\">\n",
       "  <thead>\n",
       "    <tr style=\"text-align: right;\">\n",
       "      <th></th>\n",
       "      <th>RI</th>\n",
       "      <th>Na</th>\n",
       "      <th>Mg</th>\n",
       "      <th>Al</th>\n",
       "      <th>Si</th>\n",
       "      <th>K</th>\n",
       "      <th>Ca</th>\n",
       "      <th>Ba</th>\n",
       "      <th>Fe</th>\n",
       "      <th>Type</th>\n",
       "    </tr>\n",
       "  </thead>\n",
       "  <tbody>\n",
       "    <tr>\n",
       "      <th>0</th>\n",
       "      <td>0.432836</td>\n",
       "      <td>0.437594</td>\n",
       "      <td>1.000000</td>\n",
       "      <td>0.252336</td>\n",
       "      <td>0.351786</td>\n",
       "      <td>0.009662</td>\n",
       "      <td>0.308550</td>\n",
       "      <td>0.0</td>\n",
       "      <td>0.0</td>\n",
       "      <td>1</td>\n",
       "    </tr>\n",
       "    <tr>\n",
       "      <th>1</th>\n",
       "      <td>0.283582</td>\n",
       "      <td>0.475188</td>\n",
       "      <td>0.801782</td>\n",
       "      <td>0.333333</td>\n",
       "      <td>0.521429</td>\n",
       "      <td>0.077295</td>\n",
       "      <td>0.223048</td>\n",
       "      <td>0.0</td>\n",
       "      <td>0.0</td>\n",
       "      <td>1</td>\n",
       "    </tr>\n",
       "    <tr>\n",
       "      <th>2</th>\n",
       "      <td>0.220808</td>\n",
       "      <td>0.421053</td>\n",
       "      <td>0.790646</td>\n",
       "      <td>0.389408</td>\n",
       "      <td>0.567857</td>\n",
       "      <td>0.062802</td>\n",
       "      <td>0.218401</td>\n",
       "      <td>0.0</td>\n",
       "      <td>0.0</td>\n",
       "      <td>1</td>\n",
       "    </tr>\n",
       "    <tr>\n",
       "      <th>3</th>\n",
       "      <td>0.285777</td>\n",
       "      <td>0.372932</td>\n",
       "      <td>0.821826</td>\n",
       "      <td>0.311526</td>\n",
       "      <td>0.500000</td>\n",
       "      <td>0.091787</td>\n",
       "      <td>0.259294</td>\n",
       "      <td>0.0</td>\n",
       "      <td>0.0</td>\n",
       "      <td>1</td>\n",
       "    </tr>\n",
       "    <tr>\n",
       "      <th>4</th>\n",
       "      <td>0.275241</td>\n",
       "      <td>0.381955</td>\n",
       "      <td>0.806236</td>\n",
       "      <td>0.295950</td>\n",
       "      <td>0.583929</td>\n",
       "      <td>0.088567</td>\n",
       "      <td>0.245353</td>\n",
       "      <td>0.0</td>\n",
       "      <td>0.0</td>\n",
       "      <td>1</td>\n",
       "    </tr>\n",
       "  </tbody>\n",
       "</table>\n",
       "</div>"
      ],
      "text/plain": [
       "         RI        Na        Mg        Al        Si         K        Ca   Ba  \\\n",
       "0  0.432836  0.437594  1.000000  0.252336  0.351786  0.009662  0.308550  0.0   \n",
       "1  0.283582  0.475188  0.801782  0.333333  0.521429  0.077295  0.223048  0.0   \n",
       "2  0.220808  0.421053  0.790646  0.389408  0.567857  0.062802  0.218401  0.0   \n",
       "3  0.285777  0.372932  0.821826  0.311526  0.500000  0.091787  0.259294  0.0   \n",
       "4  0.275241  0.381955  0.806236  0.295950  0.583929  0.088567  0.245353  0.0   \n",
       "\n",
       "    Fe  Type  \n",
       "0  0.0     1  \n",
       "1  0.0     1  \n",
       "2  0.0     1  \n",
       "3  0.0     1  \n",
       "4  0.0     1  "
      ]
     },
     "execution_count": 13,
     "metadata": {},
     "output_type": "execute_result"
    }
   ],
   "source": [
    "df.head()"
   ]
  },
  {
   "cell_type": "code",
   "execution_count": 23,
   "metadata": {},
   "outputs": [],
   "source": [
    "classes = 7\n",
    "itera = 2000\n",
    "iterq = list(range(itera))\n",
    "costt = np.zeros((itera))\n",
    "alpha =0.001\n",
    "lemda = 0.5\n",
    "bigt = []"
   ]
  },
  {
   "cell_type": "code",
   "execution_count": 24,
   "metadata": {
    "scrolled": true
   },
   "outputs": [
    {
     "name": "stderr",
     "output_type": "stream",
     "text": [
      "C:\\ProgramData\\Anaconda3\\lib\\site-packages\\ipykernel_launcher.py:7: SettingWithCopyWarning: \n",
      "A value is trying to be set on a copy of a slice from a DataFrame.\n",
      "Try using .loc[row_indexer,col_indexer] = value instead\n",
      "\n",
      "See the caveats in the documentation: http://pandas.pydata.org/pandas-docs/stable/indexing.html#indexing-view-versus-copy\n",
      "  import sys\n"
     ]
    },
    {
     "data": {
      "image/png": "[encoded data removed]",
      "text/plain": [
       "<Figure size 432x288 with 1 Axes>"
      ]
     },
     "metadata": {
      "needs_background": "light"
     },
     "output_type": "display_data"
    }
   ],
   "source": [
    "for i in range (classes):\n",
    "    df1=df[df['Type']==i]\n",
    "    \n",
    "    \n",
    "\n",
    "    X = df1[['RI','Na','Mg','Al','Si','K','Ca','Ba','Fe']]\n",
    "    df1['Type']=1\n",
    "    Y = df1['Type']\n",
    "    \n",
    "    X['One']=1\n",
    "    m=len(df1['RI'])\n",
    "    if m==0:\n",
    "        continue\n",
    "    costt=[]\n",
    "    theta =np.zeros(X.shape[1])\n",
    "    for i in range(itera):\n",
    "        thetax=np.dot(theta,X.T)\n",
    "        hyp =1/(1+np.exp(-thetax))\n",
    "        cost =(-1/m) * sum(Y.T*np.log(hyp)+(1-Y.T)*np.log(1-hyp)) \n",
    "        costt.append((-1/m) * sum(Y.T*np.log(hyp)+(1-Y.T)*np.log(1-hyp)) )\n",
    "        grad = (1/m) * np.dot(X.T, (hyp - Y.T).T)       \n",
    "        theta= theta -alpha * grad\n",
    "    bigt.append(theta)\n",
    "    plt.plot(iterq,costt)"
   ]
  },
  {
   "cell_type": "code",
   "execution_count": 19,
   "metadata": {},
   "outputs": [
    {
     "data": {
      "text/plain": [
       "[array([0.03137667, 0.03568233, 0.07472662, 0.02571546, 0.04738383,\n",
       "        0.00680676, 0.0295579 , 0.00038152, 0.01055297, 0.0944537 ]),\n",
       " array([0.03137667, 0.03568233, 0.07472662, 0.02571546, 0.04738383,\n",
       "        0.00680676, 0.0295579 , 0.00038152, 0.01055297, 0.0944537 ]),\n",
       " array([0.03137667, 0.03568233, 0.07472662, 0.02571546, 0.04738383,\n",
       "        0.00680676, 0.0295579 , 0.00038152, 0.01055297, 0.0944537 ]),\n",
       " array([0.03137667, 0.03568233, 0.07472662, 0.02571546, 0.04738383,\n",
       "        0.00680676, 0.0295579 , 0.00038152, 0.01055297, 0.0944537 ]),\n",
       " array([0.03137667, 0.03568233, 0.07472662, 0.02571546, 0.04738383,\n",
       "        0.00680676, 0.0295579 , 0.00038152, 0.01055297, 0.0944537 ]),\n",
       " array([0.03137667, 0.03568233, 0.07472662, 0.02571546, 0.04738383,\n",
       "        0.00680676, 0.0295579 , 0.00038152, 0.01055297, 0.0944537 ]),\n",
       " array([0.03137667, 0.03568233, 0.07472662, 0.02571546, 0.04738383,\n",
       "        0.00680676, 0.0295579 , 0.00038152, 0.01055297, 0.0944537 ])]"
      ]
     },
     "execution_count": 19,
     "metadata": {},
     "output_type": "execute_result"
    }
   ],
   "source": [
    "bigt"
   ]
  }
 ],
 "metadata": {
  "kernelspec": {
   "display_name": "Python 3",
   "language": "python",
   "name": "python3"
  },
  "language_info": {
   "codemirror_mode": {
    "name": "ipython",
    "version": 3
   },
   "file_extension": ".py",
   "mimetype": "text/x-python",
   "name": "python",
   "nbconvert_exporter": "python",
   "pygments_lexer": "ipython3",
   "version": "3.7.3"
  }
 },
 "nbformat": 4,
 "nbformat_minor": 2
}
